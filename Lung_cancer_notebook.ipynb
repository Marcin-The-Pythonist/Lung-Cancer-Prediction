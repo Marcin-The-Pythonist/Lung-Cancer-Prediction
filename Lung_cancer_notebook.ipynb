{
 "cells": [
  {
   "cell_type": "markdown",
   "id": "20bc3816",
   "metadata": {},
   "source": [
    "### Libraries and dataset "
   ]
  },
  {
   "cell_type": "code",
   "execution_count": 11,
   "id": "64d99675",
   "metadata": {},
   "outputs": [],
   "source": [
    "import pandas as pd \n",
    "import matplotlib.pyplot as plt \n",
    "import seaborn as sns \n",
    "import statsmodels.api as sm\n",
    "import numpy as np"
   ]
  },
  {
   "cell_type": "code",
   "execution_count": 8,
   "id": "c71483c5",
   "metadata": {},
   "outputs": [
    {
     "data": {
      "text/html": [
       "<div>\n",
       "<style scoped>\n",
       "    .dataframe tbody tr th:only-of-type {\n",
       "        vertical-align: middle;\n",
       "    }\n",
       "\n",
       "    .dataframe tbody tr th {\n",
       "        vertical-align: top;\n",
       "    }\n",
       "\n",
       "    .dataframe thead th {\n",
       "        text-align: right;\n",
       "    }\n",
       "</style>\n",
       "<table border=\"1\" class=\"dataframe\">\n",
       "  <thead>\n",
       "    <tr style=\"text-align: right;\">\n",
       "      <th></th>\n",
       "      <th>GENDER</th>\n",
       "      <th>AGE</th>\n",
       "      <th>SMOKING</th>\n",
       "      <th>YELLOW_FINGERS</th>\n",
       "      <th>ANXIETY</th>\n",
       "      <th>PEER_PRESSURE</th>\n",
       "      <th>CHRONIC DISEASE</th>\n",
       "      <th>FATIGUE</th>\n",
       "      <th>ALLERGY</th>\n",
       "      <th>WHEEZING</th>\n",
       "      <th>ALCOHOL CONSUMING</th>\n",
       "      <th>COUGHING</th>\n",
       "      <th>SHORTNESS OF BREATH</th>\n",
       "      <th>SWALLOWING DIFFICULTY</th>\n",
       "      <th>CHEST PAIN</th>\n",
       "      <th>LUNG_CANCER</th>\n",
       "    </tr>\n",
       "  </thead>\n",
       "  <tbody>\n",
       "    <tr>\n",
       "      <th>48</th>\n",
       "      <td>F</td>\n",
       "      <td>70</td>\n",
       "      <td>1</td>\n",
       "      <td>1</td>\n",
       "      <td>2</td>\n",
       "      <td>2</td>\n",
       "      <td>2</td>\n",
       "      <td>2</td>\n",
       "      <td>2</td>\n",
       "      <td>2</td>\n",
       "      <td>2</td>\n",
       "      <td>1</td>\n",
       "      <td>2</td>\n",
       "      <td>2</td>\n",
       "      <td>2</td>\n",
       "      <td>YES</td>\n",
       "    </tr>\n",
       "    <tr>\n",
       "      <th>58</th>\n",
       "      <td>M</td>\n",
       "      <td>47</td>\n",
       "      <td>1</td>\n",
       "      <td>2</td>\n",
       "      <td>1</td>\n",
       "      <td>2</td>\n",
       "      <td>2</td>\n",
       "      <td>2</td>\n",
       "      <td>1</td>\n",
       "      <td>2</td>\n",
       "      <td>1</td>\n",
       "      <td>1</td>\n",
       "      <td>2</td>\n",
       "      <td>2</td>\n",
       "      <td>2</td>\n",
       "      <td>YES</td>\n",
       "    </tr>\n",
       "    <tr>\n",
       "      <th>2</th>\n",
       "      <td>F</td>\n",
       "      <td>59</td>\n",
       "      <td>1</td>\n",
       "      <td>1</td>\n",
       "      <td>1</td>\n",
       "      <td>2</td>\n",
       "      <td>1</td>\n",
       "      <td>2</td>\n",
       "      <td>1</td>\n",
       "      <td>2</td>\n",
       "      <td>1</td>\n",
       "      <td>2</td>\n",
       "      <td>2</td>\n",
       "      <td>1</td>\n",
       "      <td>2</td>\n",
       "      <td>NO</td>\n",
       "    </tr>\n",
       "    <tr>\n",
       "      <th>99</th>\n",
       "      <td>M</td>\n",
       "      <td>56</td>\n",
       "      <td>2</td>\n",
       "      <td>1</td>\n",
       "      <td>1</td>\n",
       "      <td>1</td>\n",
       "      <td>1</td>\n",
       "      <td>2</td>\n",
       "      <td>2</td>\n",
       "      <td>2</td>\n",
       "      <td>2</td>\n",
       "      <td>2</td>\n",
       "      <td>2</td>\n",
       "      <td>1</td>\n",
       "      <td>2</td>\n",
       "      <td>YES</td>\n",
       "    </tr>\n",
       "    <tr>\n",
       "      <th>55</th>\n",
       "      <td>M</td>\n",
       "      <td>52</td>\n",
       "      <td>1</td>\n",
       "      <td>2</td>\n",
       "      <td>2</td>\n",
       "      <td>1</td>\n",
       "      <td>2</td>\n",
       "      <td>1</td>\n",
       "      <td>2</td>\n",
       "      <td>2</td>\n",
       "      <td>2</td>\n",
       "      <td>2</td>\n",
       "      <td>1</td>\n",
       "      <td>2</td>\n",
       "      <td>1</td>\n",
       "      <td>YES</td>\n",
       "    </tr>\n",
       "  </tbody>\n",
       "</table>\n",
       "</div>"
      ],
      "text/plain": [
       "   GENDER  AGE  SMOKING  YELLOW_FINGERS  ANXIETY  PEER_PRESSURE  \\\n",
       "48      F   70        1               1        2              2   \n",
       "58      M   47        1               2        1              2   \n",
       "2       F   59        1               1        1              2   \n",
       "99      M   56        2               1        1              1   \n",
       "55      M   52        1               2        2              1   \n",
       "\n",
       "    CHRONIC DISEASE  FATIGUE   ALLERGY   WHEEZING  ALCOHOL CONSUMING  \\\n",
       "48                2         2         2         2                  2   \n",
       "58                2         2         1         2                  1   \n",
       "2                 1         2         1         2                  1   \n",
       "99                1         2         2         2                  2   \n",
       "55                2         1         2         2                  2   \n",
       "\n",
       "    COUGHING  SHORTNESS OF BREATH  SWALLOWING DIFFICULTY  CHEST PAIN  \\\n",
       "48         1                    2                      2           2   \n",
       "58         1                    2                      2           2   \n",
       "2          2                    2                      1           2   \n",
       "99         2                    2                      1           2   \n",
       "55         2                    1                      2           1   \n",
       "\n",
       "   LUNG_CANCER  \n",
       "48         YES  \n",
       "58         YES  \n",
       "2           NO  \n",
       "99         YES  \n",
       "55         YES  "
      ]
     },
     "execution_count": 8,
     "metadata": {},
     "output_type": "execute_result"
    }
   ],
   "source": [
    "df = pd.read_csv(\"survey_lung_cancer.csv\") \n",
    "df.sample(5)"
   ]
  },
  {
   "cell_type": "markdown",
   "id": "2b4bc7cf",
   "metadata": {},
   "source": [
    "### Quetions to answer\n",
    "<ul>\n",
    "    <li> Does drinking alcohol aggravate the consequences of smoking?</li>\n",
    "    <li> Does smoking increase risk of lung cancer </li>\n",
    "    <li> Are smokers more likely to have anxiety problems?</li> \n",
    "    <li> What are the symptoms of lung cancer in non-smoking individuals?</li>\n",
    "    <li> Is there any difference in risk of lung cancers sex-wise?</li>\n",
    "</ul>"
   ]
  },
  {
   "cell_type": "markdown",
   "id": "18385c1f",
   "metadata": {},
   "source": [
    "### Cleaning the data"
   ]
  },
  {
   "cell_type": "code",
   "execution_count": 12,
   "id": "65c777af",
   "metadata": {},
   "outputs": [],
   "source": [
    "# Changing categorical data to discrete type \n",
    "df[\"LUNG_CANCER\"] = np.where(df[\"LUNG_CANCER\"] == \"YES\",1,0)"
   ]
  },
  {
   "cell_type": "code",
   "execution_count": 17,
   "id": "ceb98ea0",
   "metadata": {},
   "outputs": [],
   "source": [
    "df[\"GENDER\"] = np.where(df[\"GENDER\"] == \"M\",1,0) # 1 --> male, 0 --> female"
   ]
  },
  {
   "cell_type": "code",
   "execution_count": 19,
   "id": "15d2126e",
   "metadata": {},
   "outputs": [],
   "source": [
    "# Subtracting 1 of the data to obtain binary format \n",
    "df[['SMOKING', 'YELLOW_FINGERS', 'ANXIETY',\n",
    "'PEER_PRESSURE', 'CHRONIC DISEASE', 'FATIGUE ', 'ALLERGY ', 'WHEEZING',\n",
    "'ALCOHOL CONSUMING', 'COUGHING', 'SHORTNESS OF BREATH',\n",
    "'SWALLOWING DIFFICULTY', 'CHEST PAIN']] =  df[['SMOKING', 'YELLOW_FINGERS', 'ANXIETY',\n",
    "'PEER_PRESSURE', 'CHRONIC DISEASE', 'FATIGUE ', 'ALLERGY ', 'WHEEZING',\n",
    "'ALCOHOL CONSUMING', 'COUGHING', 'SHORTNESS OF BREATH',\n",
    "'SWALLOWING DIFFICULTY', 'CHEST PAIN']] - 1"
   ]
  },
  {
   "cell_type": "code",
   "execution_count": 22,
   "id": "5d744ba7",
   "metadata": {},
   "outputs": [
    {
     "name": "stdout",
     "output_type": "stream",
     "text": [
      "<class 'pandas.core.frame.DataFrame'>\n",
      "RangeIndex: 309 entries, 0 to 308\n",
      "Data columns (total 16 columns):\n",
      " #   Column                 Non-Null Count  Dtype\n",
      "---  ------                 --------------  -----\n",
      " 0   GENDER                 309 non-null    int64\n",
      " 1   AGE                    309 non-null    int64\n",
      " 2   SMOKING                309 non-null    int64\n",
      " 3   YELLOW_FINGERS         309 non-null    int64\n",
      " 4   ANXIETY                309 non-null    int64\n",
      " 5   PEER_PRESSURE          309 non-null    int64\n",
      " 6   CHRONIC DISEASE        309 non-null    int64\n",
      " 7   FATIGUE                309 non-null    int64\n",
      " 8   ALLERGY                309 non-null    int64\n",
      " 9   WHEEZING               309 non-null    int64\n",
      " 10  ALCOHOL CONSUMING      309 non-null    int64\n",
      " 11  COUGHING               309 non-null    int64\n",
      " 12  SHORTNESS OF BREATH    309 non-null    int64\n",
      " 13  SWALLOWING DIFFICULTY  309 non-null    int64\n",
      " 14  CHEST PAIN             309 non-null    int64\n",
      " 15  LUNG_CANCER            309 non-null    int64\n",
      "dtypes: int64(16)\n",
      "memory usage: 38.8 KB\n"
     ]
    }
   ],
   "source": [
    "# Making sure data is of correct type\n",
    "df.info()"
   ]
  },
  {
   "cell_type": "markdown",
   "id": "b64f3673",
   "metadata": {},
   "source": [
    "### EDA "
   ]
  },
  {
   "cell_type": "code",
   "execution_count": 77,
   "id": "d2cca785",
   "metadata": {},
   "outputs": [
    {
     "data": {
      "image/png": "[encoded data removed]",
      "text/plain": [
       "<Figure size 640x480 with 1 Axes>"
      ]
     },
     "metadata": {},
     "output_type": "display_data"
    },
    {
     "name": "stdout",
     "output_type": "stream",
     "text": [
      "Number of individuals who drink: 93\n",
      "Number of individuals who don't drink: 81\n"
     ]
    }
   ],
   "source": [
    "# Does drinking alcohol aggravate the consequences of smoking?\n",
    "smoke = df.loc[(df[\"SMOKING\"] == 1) & (df[\"ALCOHOL CONSUMING\"] == 0)]\n",
    "smoke_and_drink = smoking = df.loc[(df[\"SMOKING\"] == 1) & (df[\"ALCOHOL CONSUMING\"] == 1)]\n",
    "\n",
    "ax = sns.barplot(x=['Drinking','Not drinking'],y=[smoke_and_drink['LUNG_CANCER'].mean(),smoke['LUNG_CANCER'].mean()],hue=['Drinking','Not drinking'])\n",
    "plt.title(\"Occurence of Cancer in \\n Drinkers and Non-drinkers\")\n",
    "for i in ax.containers:\n",
    "    ax.bar_label(i,)\n",
    "plt.show()\n",
    "print(f\"Number of individuals who drink: {len(smoke_and_drink)}\")\n",
    "print(f\"Number of individuals who don't drink: {len(smoke)}\")"
   ]
  },
  {
   "cell_type": "code",
   "execution_count": 91,
   "id": "ae2901ce",
   "metadata": {},
   "outputs": [
    {
     "data": {
      "image/png": "[encoded data removed]",
      "text/plain": [
       "<Figure size 640x480 with 1 Axes>"
      ]
     },
     "metadata": {},
     "output_type": "display_data"
    },
    {
     "name": "stdout",
     "output_type": "stream",
     "text": [
      "Number of smoking individuals:174\n",
      "Number of non-smoking individuals:135\n"
     ]
    }
   ],
   "source": [
    "# Are smokers more likely to have anxiety problems?\n",
    "smoke_anx = df[df['SMOKING'] == 1]\n",
    "not_smoke_anx = df[df['SMOKING'] == 0]\n",
    "\n",
    "ax = sns.barplot(x=['Smoking','Not smoking'],y=[smoke_anx['ANXIETY'].mean(),not_smoke_anx['ANXIETY'].mean()],hue=['Smoking','Not smoking'])\n",
    "plt.title('Anxiety in Smokers and Non-smokers')\n",
    "for i in ax.containers:\n",
    "    ax.bar_label(i,)\n",
    "plt.show()\n",
    "print(f\"Number of smoking individuals:{len(smoke_anx)}\")\n",
    "print(f\"Number of non-smoking individuals:{len(not_smoke_anx)}\")"
   ]
  }
 ],
 "metadata": {
  "kernelspec": {
   "display_name": "data_science",
   "language": "python",
   "name": "data_science"
  },
  "language_info": {
   "codemirror_mode": {
    "name": "ipython",
    "version": 3
   },
   "file_extension": ".py",
   "mimetype": "text/x-python",
   "name": "python",
   "nbconvert_exporter": "python",
   "pygments_lexer": "ipython3",
   "version": "3.12.3"
  }
 },
 "nbformat": 4,
 "nbformat_minor": 5
}
